{
 "cells": [
  {
   "cell_type": "markdown",
   "metadata": {},
   "source": [
    "### Exploratory Data Analysis\n",
    "My goal is to create a model that will be capable of predicting value of an apartment in Warsaw. \\\n",
    "I will start with cleaning and reformatting the data, then I will proceed to feature engineering so I can finally explore it. "
   ]
  },
  {
   "cell_type": "markdown",
   "metadata": {},
   "source": [
    "## Dataset documentation\n",
    "- location: address of the apartment\n",
    "- total_price: price of the apartment in PLN\n",
    "- price_per_sqm: price per square meter of the apartment in PLN\n",
    "- area: area of the apartment in square meters\n",
    "- rooms: number of rooms in the apartment\n",
    "- finished: status of the apartment, e.g. ready to live, building shell\n",
    "- floor: on which floor is the apartment located\n",
    "- outside: is there garden/terrace/balcony\n",
    "- rent: monthly rent rate in PLN\n",
    "- elevator: is there a working elevator\n",
    "- built: when was the building built\n",
    "- b_type: type of the building e.g. skyscraper, block of flats\n",
    "- link: link to Otodom listing of this apartment"
   ]
  },
  {
   "cell_type": "code",
   "execution_count": 1,
   "metadata": {},
   "outputs": [],
   "source": [
    "from geopy.geocoders import Nominatim\n",
    "import pandas as pd\n",
    "import matplotlib as plt\n",
    "import seaborn as sns\n",
    "import numpy as np\n",
    "import time"
   ]
  },
  {
   "cell_type": "code",
   "execution_count": 2,
   "metadata": {},
   "outputs": [
    {
     "name": "stdout",
     "output_type": "stream",
     "text": [
      "<class 'pandas.core.frame.DataFrame'>\n",
      "RangeIndex: 31850 entries, 0 to 31849\n",
      "Data columns (total 13 columns):\n",
      " #   Column         Non-Null Count  Dtype  \n",
      "---  ------         --------------  -----  \n",
      " 0   location       31845 non-null  object \n",
      " 1   total_price    31849 non-null  object \n",
      " 2   price_per_sqm  29473 non-null  object \n",
      " 3   area           31849 non-null  object \n",
      " 4   rooms          31849 non-null  object \n",
      " 5   finished       6912 non-null   object \n",
      " 6   floor          31404 non-null  object \n",
      " 7   outside        23252 non-null  object \n",
      " 8   rent           15569 non-null  object \n",
      " 9   elevator       27957 non-null  object \n",
      " 10  built          24779 non-null  float64\n",
      " 11  b_type         23639 non-null  object \n",
      " 12  link           31850 non-null  object \n",
      "dtypes: float64(1), object(12)\n",
      "memory usage: 3.2+ MB\n"
     ]
    }
   ],
   "source": [
    "df = pd.read_csv('details.txt', delimiter=';')\n",
    "df.info()"
   ]
  },
  {
   "cell_type": "code",
   "execution_count": 3,
   "metadata": {},
   "outputs": [
    {
     "data": {
      "text/plain": [
       "location             5\n",
       "total_price          1\n",
       "price_per_sqm     2377\n",
       "area                 1\n",
       "rooms                1\n",
       "finished         24938\n",
       "floor              446\n",
       "outside           8598\n",
       "rent             16281\n",
       "elevator          3893\n",
       "built             7071\n",
       "b_type            8211\n",
       "link                 0\n",
       "dtype: int64"
      ]
     },
     "execution_count": 3,
     "metadata": {},
     "output_type": "execute_result"
    }
   ],
   "source": [
    "df.isna().sum()"
   ]
  },
  {
   "cell_type": "markdown",
   "metadata": {},
   "source": [
    "`location`, `total_price`, `area` and `rooms` have very few NaN values. However in my dataset empty values are often replaced by a string, mostly different for all columns, so let's try to convert those strings into NaN's. Also let's format the data in columns into numbers if it's possible. "
   ]
  },
  {
   "cell_type": "markdown",
   "metadata": {},
   "source": [
    "### `total_price`"
   ]
  },
  {
   "cell_type": "code",
   "execution_count": 4,
   "metadata": {},
   "outputs": [
    {
     "data": {
      "text/plain": [
       "0     1 049 000 zł\n",
       "1     1 099 000 zł\n",
       "2    444 563,23 zł\n",
       "3       430 000 zł\n",
       "4    621 422,01 zł\n",
       "Name: total_price, dtype: object"
      ]
     },
     "execution_count": 4,
     "metadata": {},
     "output_type": "execute_result"
    }
   ],
   "source": [
    "df['total_price'].head()"
   ]
  },
  {
   "cell_type": "code",
   "execution_count": 5,
   "metadata": {},
   "outputs": [
    {
     "name": "stdout",
     "output_type": "stream",
     "text": [
      "total_price\n",
      "799000    416\n",
      "899000    295\n",
      "750000    290\n",
      "699000    276\n",
      "850000    272\n",
      "Name: count, dtype: int64\n",
      "Number of NaN's in total_price is 2377\n"
     ]
    }
   ],
   "source": [
    "df['total_price'] = df['total_price'].replace('Zapytaj o cenę', np.nan)\n",
    "df['total_price'] = df['total_price'].str.replace(' ', '').str.slice(stop=-2)\n",
    "print(df['total_price'].value_counts().head())\n",
    "print(f\"Number of NaN's in total_price is {df['total_price'].isna().sum()}\")"
   ]
  },
  {
   "cell_type": "markdown",
   "metadata": {},
   "source": [
    "### `price_per_sqm`"
   ]
  },
  {
   "cell_type": "code",
   "execution_count": 6,
   "metadata": {},
   "outputs": [
    {
     "data": {
      "text/plain": [
       "0    14 204 zł/m²\n",
       "1    18 381 zł/m²\n",
       "2    13 768 zł/m²\n",
       "3    17 530 zł/m²\n",
       "4    16 919 zł/m²\n",
       "Name: price_per_sqm, dtype: object"
      ]
     },
     "execution_count": 6,
     "metadata": {},
     "output_type": "execute_result"
    }
   ],
   "source": [
    "df['price_per_sqm'].head()"
   ]
  },
  {
   "cell_type": "code",
   "execution_count": 7,
   "metadata": {},
   "outputs": [
    {
     "name": "stdout",
     "output_type": "stream",
     "text": [
      "0    14204\n",
      "1    18381\n",
      "2    13768\n",
      "3    17530\n",
      "4    16919\n",
      "Name: price_per_sqm, dtype: object\n",
      "Number of NaN's in price_per_sqm is 2377\n"
     ]
    }
   ],
   "source": [
    "df['price_per_sqm'] = df['price_per_sqm'].str.replace(' ', '').str.slice(stop=-5)\n",
    "print(df['price_per_sqm'].head())\n",
    "print(f\"Number of NaN's in price_per_sqm is {df['price_per_sqm'].isna().sum()}\")"
   ]
  },
  {
   "cell_type": "markdown",
   "metadata": {},
   "source": [
    "### `area`"
   ]
  },
  {
   "cell_type": "code",
   "execution_count": 8,
   "metadata": {},
   "outputs": [
    {
     "data": {
      "text/plain": [
       "0    73,85 m²\n",
       "1    59,79 m²\n",
       "2    32,29 m²\n",
       "3    24,53 m²\n",
       "4    36,73 m²\n",
       "Name: area, dtype: object"
      ]
     },
     "execution_count": 8,
     "metadata": {},
     "output_type": "execute_result"
    }
   ],
   "source": [
    "df['area'].head()"
   ]
  },
  {
   "cell_type": "code",
   "execution_count": 9,
   "metadata": {},
   "outputs": [
    {
     "name": "stdout",
     "output_type": "stream",
     "text": [
      "area\n",
      "48    326\n",
      "47    322\n",
      "50    288\n",
      "38    261\n",
      "49    239\n",
      "Name: count, dtype: int64\n",
      "Number of NaN's in area is 1\n"
     ]
    }
   ],
   "source": [
    "df['area'] = df['area'].str.slice(stop=-3).str.replace(' ', '')\n",
    "print(df['area'].value_counts().head())\n",
    "print(f\"Number of NaN's in area is {df['area'].isna().sum()}\")"
   ]
  },
  {
   "cell_type": "markdown",
   "metadata": {},
   "source": [
    "### `rooms`"
   ]
  },
  {
   "cell_type": "code",
   "execution_count": 10,
   "metadata": {},
   "outputs": [
    {
     "data": {
      "text/plain": [
       "rooms\n",
       "3                11277\n",
       "2                11241\n",
       "4                 4798\n",
       "1                 2955\n",
       "5                 1225\n",
       "6                  221\n",
       "7                   59\n",
       "więcej niż 10       37\n",
       "8                   20\n",
       "9                   10\n",
       "10                   6\n",
       "Name: count, dtype: int64"
      ]
     },
     "execution_count": 10,
     "metadata": {},
     "output_type": "execute_result"
    }
   ],
   "source": [
    "df['rooms'].value_counts()"
   ]
  },
  {
   "cell_type": "markdown",
   "metadata": {},
   "source": [
    "There's few apartments with a number of room bigger than 10. Since I want to focus on fairly average apartments in Warsaw I will drop these values. "
   ]
  },
  {
   "cell_type": "code",
   "execution_count": 11,
   "metadata": {},
   "outputs": [
    {
     "name": "stdout",
     "output_type": "stream",
     "text": [
      "rooms\n",
      "3     11277\n",
      "2     11241\n",
      "4      4798\n",
      "1      2955\n",
      "5      1225\n",
      "6       221\n",
      "7        59\n",
      "8        20\n",
      "9        10\n",
      "10        6\n",
      "Name: count, dtype: int64\n",
      "Number of NaN's in rooms is 1\n"
     ]
    }
   ],
   "source": [
    "df = df[df['rooms']!='więcej niż 10']\n",
    "df['rooms'] = df['rooms'].str.replace(' ', '')\n",
    "print(df['rooms'].value_counts())\n",
    "print(f\"Number of NaN's in rooms is {df['rooms'].isna().sum()}\")"
   ]
  },
  {
   "cell_type": "markdown",
   "metadata": {},
   "source": [
    "### `finished`"
   ]
  },
  {
   "cell_type": "code",
   "execution_count": 12,
   "metadata": {},
   "outputs": [
    {
     "data": {
      "text/plain": [
       "finished\n",
       "do zamieszkania    3363\n",
       "do wykończenia     1658\n",
       "Zapytaj            1338\n",
       "do remontu          541\n",
       "Name: count, dtype: int64"
      ]
     },
     "execution_count": 12,
     "metadata": {},
     "output_type": "execute_result"
    }
   ],
   "source": [
    "df['finished'].value_counts()"
   ]
  },
  {
   "cell_type": "code",
   "execution_count": 13,
   "metadata": {},
   "outputs": [
    {
     "name": "stdout",
     "output_type": "stream",
     "text": [
      "Number of NaN's in finished is 26251\n"
     ]
    }
   ],
   "source": [
    "df['finished'] = df['finished'].replace('Zapytaj', np.nan)\n",
    "print(f\"Number of NaN's in finished is {df['finished'].isna().sum()}\")"
   ]
  },
  {
   "cell_type": "markdown",
   "metadata": {},
   "source": [
    "### `floor`"
   ]
  },
  {
   "cell_type": "code",
   "execution_count": 14,
   "metadata": {},
   "outputs": [
    {
     "data": {
      "text/plain": [
       "floor\n",
       "suterena/6        1\n",
       "suterena/4        5\n",
       "suterena/2        5\n",
       "suterena         11\n",
       "poddasze/7        1\n",
       "poddasze/52       5\n",
       "poddasze/4        4\n",
       "poddasze/3        3\n",
       "poddasze/10       1\n",
       "parter/9         32\n",
       "parter/8        149\n",
       "parter/7        161\n",
       "parter/6        306\n",
       "parter/5        511\n",
       "parter/4       1011\n",
       "Name: count, dtype: int64"
      ]
     },
     "execution_count": 14,
     "metadata": {},
     "output_type": "execute_result"
    }
   ],
   "source": [
    "df['floor'].value_counts().sort_index(ascending=False).head(15)"
   ]
  },
  {
   "cell_type": "markdown",
   "metadata": {},
   "source": [
    "Now I will format the data into numerical values. 'suterena' is basically a basement, so I will set it to -1. 'poddasze' is the top floor so I will set it to the max value of this building. 'parter' is 0. Also I will move the '/x' part of values into a new column called `max_floor`."
   ]
  },
  {
   "cell_type": "code",
   "execution_count": 15,
   "metadata": {},
   "outputs": [
    {
     "name": "stdout",
     "output_type": "stream",
     "text": [
      "floor\n",
      "9      492\n",
      "8      647\n",
      "7      956\n",
      "6     1274\n",
      "5     1922\n",
      "4     3273\n",
      "31      63\n",
      "3     4697\n",
      "27       8\n",
      "21       3\n",
      "20      23\n",
      "2     5576\n",
      "19      21\n",
      "18      18\n",
      "17      51\n",
      "Name: count, dtype: int64\n",
      "Number of NaN's in floor is 441\n"
     ]
    }
   ],
   "source": [
    "df['floor'] = df['floor'].str.replace(' ', '')\n",
    "df['floor'] = df['floor'].str.replace('suterena', '-1')\n",
    "df['floor'] = df['floor'].str.replace('parter', '0')\n",
    "df['max_floor'] = pd.Series(dtype=int)\n",
    "# in some rows floor is: >x/y, so we will just replace it with average of x+1 and y\n",
    "for index, row in df.iterrows():\n",
    "    val = row['floor']\n",
    "    if pd.notna(val):\n",
    "        if 'poddasze' in val or val=='poddasze':\n",
    "            val.replace('poddasze', val[-1])\n",
    "        if '/' in val:\n",
    "            f, mf = val.split('/')\n",
    "            if '>' in f:\n",
    "                f = f[1:]\n",
    "                f = str((int(f)+1+int(mf))//2)\n",
    "            df.at[index, 'max_floor'] = int(mf)\n",
    "            df.at[index, 'floor'] = f\n",
    "        else:\n",
    "            if '>' in val:\n",
    "                val = str(int(val[1:])+1)\n",
    "            df.at[index, 'floor'] = val\n",
    "\n",
    "df = df[df['floor']!='poddasze'] # for some reason we were left with 14 rows with value equal to poddasze, couldnt fix it so just dropped them since its a small number\n",
    "print(df['floor'].value_counts().sort_index(ascending=False).head(15))\n",
    "print(f\"Number of NaN's in floor is {df['floor'].isna().sum()}\")\n"
   ]
  },
  {
   "cell_type": "markdown",
   "metadata": {},
   "source": [
    "### `max_floor`\n",
    "This really doesn't need any work since I've just created it."
   ]
  },
  {
   "cell_type": "code",
   "execution_count": 16,
   "metadata": {},
   "outputs": [
    {
     "name": "stdout",
     "output_type": "stream",
     "text": [
      "max_floor\n",
      "4.0     5778\n",
      "3.0     5212\n",
      "5.0     4034\n",
      "2.0     2925\n",
      "6.0     2803\n",
      "10.0    2341\n",
      "7.0     2161\n",
      "8.0     1866\n",
      "9.0      664\n",
      "11.0     529\n",
      "15.0     444\n",
      "1.0      439\n",
      "12.0     423\n",
      "14.0     221\n",
      "13.0     129\n",
      "Name: count, dtype: int64\n",
      "Number of NaN's in max_floor is 1261\n"
     ]
    }
   ],
   "source": [
    "print(df['max_floor'].value_counts().head(15))\n",
    "print(f\"Number of NaN's in max_floor is {df['max_floor'].isna().sum()}\")"
   ]
  },
  {
   "cell_type": "markdown",
   "metadata": {},
   "source": [
    "### `outside`"
   ]
  },
  {
   "cell_type": "code",
   "execution_count": 17,
   "metadata": {},
   "outputs": [
    {
     "name": "stdout",
     "output_type": "stream",
     "text": [
      "[nan 'balkon' 'taras' 'balkon, ogródek' 'ogródek' 'balkon, taras'\n",
      " 'ogródek, taras' 'balkon, ogródek, taras' 'taras, balkon'\n",
      " 'taras, ogródek' 'taras, balkon, ogródek' 'ogródek, balkon']\n",
      "outside\n",
      "balkon                    17135\n",
      "balkon, taras              1407\n",
      "taras                      1334\n",
      "ogródek                    1323\n",
      "ogródek, taras              859\n",
      "balkon, ogródek, taras      453\n",
      "balkon, ogródek             428\n",
      "taras, ogródek              156\n",
      "taras, balkon               111\n",
      "ogródek, balkon              15\n",
      "taras, balkon, ogródek        5\n",
      "Name: count, dtype: int64\n",
      "Number of NaN's in outside is 8573\n"
     ]
    }
   ],
   "source": [
    "print(df['outside'].unique())\n",
    "print(df['outside'].value_counts())\n",
    "print(f\"Number of NaN's in outside is {df['outside'].isna().sum()}\")\n"
   ]
  },
  {
   "cell_type": "markdown",
   "metadata": {},
   "source": [
    "I will split the `outside` column into three new ones: `terrace`, `balcony` and `garden` conatining 0/1 values. Then `outside` column will be removed."
   ]
  },
  {
   "cell_type": "code",
   "execution_count": 18,
   "metadata": {},
   "outputs": [
    {
     "name": "stdout",
     "output_type": "stream",
     "text": [
      "balcony\n",
      "1.0    19554\n",
      "0.0     3672\n",
      "Name: count, dtype: int64\n",
      "Number of NaN's in balcony is 8573\n",
      "terrace\n",
      "0.0    18901\n",
      "1.0     4325\n",
      "Name: count, dtype: int64\n",
      "Number of NaN's in terrace is 8573\n",
      "garden\n",
      "0.0    19987\n",
      "1.0     3239\n",
      "Name: count, dtype: int64\n",
      "Number of NaN's in garden is 8573\n"
     ]
    }
   ],
   "source": [
    "df['balcony'] = pd.Series(dtype=int)\n",
    "df['terrace'] = pd.Series(dtype=int)\n",
    "df['garden'] = pd.Series(dtype=int)\n",
    "\n",
    "for index, row in df.iterrows():\n",
    "    val = row['outside']\n",
    "    if pd.notna(val):\n",
    "        df.at[index, 'balcony'] = int('balkon' in val)\n",
    "        df.at[index, 'terrace'] = int('taras' in val)\n",
    "        df.at[index, 'garden'] = int('ogródek' in val)\n",
    "\n",
    "df = df.drop('outside', axis=1)\n",
    "\n",
    "print(df['balcony'].value_counts())\n",
    "print(f\"Number of NaN's in balcony is {df['balcony'].isna().sum()}\")\n",
    "print(df['terrace'].value_counts())\n",
    "print(f\"Number of NaN's in terrace is {df['terrace'].isna().sum()}\")\n",
    "print(df['garden'].value_counts())\n",
    "print(f\"Number of NaN's in garden is {df['garden'].isna().sum()}\")\n",
    "\n"
   ]
  },
  {
   "cell_type": "markdown",
   "metadata": {},
   "source": [
    "### `rent`"
   ]
  },
  {
   "cell_type": "code",
   "execution_count": 19,
   "metadata": {},
   "outputs": [
    {
     "data": {
      "text/plain": [
       "rent\n",
       "999 zł           8\n",
       "998 zł           5\n",
       "996 zł           1\n",
       "995 zł           8\n",
       "990 zł          46\n",
       "99 999,99 zł     1\n",
       "989 zł           1\n",
       "987 zł           2\n",
       "985 zł           1\n",
       "983 zł          11\n",
       "981 zł           1\n",
       "980 zł          60\n",
       "978 zł           1\n",
       "977 zł           3\n",
       "976,45 zł        3\n",
       "Name: count, dtype: int64"
      ]
     },
     "execution_count": 19,
     "metadata": {},
     "output_type": "execute_result"
    }
   ],
   "source": [
    "df['rent'].value_counts().sort_index(ascending=False).head(15)"
   ]
  },
  {
   "cell_type": "code",
   "execution_count": 20,
   "metadata": {},
   "outputs": [
    {
     "name": "stdout",
     "output_type": "stream",
     "text": [
      "Number of NaN's in rent is 16254\n"
     ]
    }
   ],
   "source": [
    "df['rent'] = df['rent'].str.replace(' zł', '')\n",
    "df['rent'] = df['rent'].str.replace(' ', '')\n",
    "df['rent'] = df['rent'].str.replace(',', '.') # floating point\n",
    "\n",
    "# quick check if there are any unexpected (string/NaN) values but there are not\n",
    "for index, row in df.iterrows():\n",
    "    val = row['rent']\n",
    "    if pd.notna(val):\n",
    "        val = float(val)\n",
    "\n",
    "print(f\"Number of NaN's in rent is {df['rent'].isna().sum()}\")\n"
   ]
  },
  {
   "cell_type": "markdown",
   "metadata": {},
   "source": [
    "### `elevator`"
   ]
  },
  {
   "cell_type": "code",
   "execution_count": 21,
   "metadata": {},
   "outputs": [
    {
     "data": {
      "text/plain": [
       "array(['nie', 'tak', nan], dtype=object)"
      ]
     },
     "execution_count": 21,
     "metadata": {},
     "output_type": "execute_result"
    }
   ],
   "source": [
    "df['elevator'].unique()"
   ]
  },
  {
   "cell_type": "markdown",
   "metadata": {},
   "source": [
    "I will just convert 'tak'/'nie' into 1/0"
   ]
  },
  {
   "cell_type": "code",
   "execution_count": 22,
   "metadata": {},
   "outputs": [
    {
     "name": "stdout",
     "output_type": "stream",
     "text": [
      "elevator\n",
      "1    17817\n",
      "0    10089\n",
      "Name: count, dtype: int64\n",
      "Number of NaN's in elevator is 3893\n"
     ]
    }
   ],
   "source": [
    "df['elevator'] = df['elevator'].map({'tak':'1', 'nie':'0'})\n",
    "print(df['elevator'].value_counts())\n",
    "print(f\"Number of NaN's in elevator is {df['elevator'].isna().sum()}\")\n"
   ]
  },
  {
   "cell_type": "markdown",
   "metadata": {},
   "source": [
    "### `built`"
   ]
  },
  {
   "cell_type": "code",
   "execution_count": 23,
   "metadata": {},
   "outputs": [
    {
     "data": {
      "text/plain": [
       "built\n",
       "2.0        3\n",
       "3.0        1\n",
       "19.0      10\n",
       "20.0       2\n",
       "52.0       4\n",
       "56.0       1\n",
       "58.0       1\n",
       "70.0       2\n",
       "75.0       1\n",
       "193.0      4\n",
       "200.0      1\n",
       "750.0      1\n",
       "1056.0     3\n",
       "1073.0     2\n",
       "1505.0     2\n",
       "Name: count, dtype: int64"
      ]
     },
     "execution_count": 23,
     "metadata": {},
     "output_type": "execute_result"
    }
   ],
   "source": [
    "df['built'].value_counts().sort_index().head(15)"
   ]
  },
  {
   "cell_type": "code",
   "execution_count": 24,
   "metadata": {},
   "outputs": [
    {
     "name": "stdout",
     "output_type": "stream",
     "text": [
      "Number of NaN's in built is 7064\n"
     ]
    }
   ],
   "source": [
    "for index, row in df.iterrows(): # check if there are any unexcpected values\n",
    "    val = row['built']\n",
    "    if pd.notna(val):\n",
    "        val = float(val)\n",
    "print(f\"Number of NaN's in built is {df['built'].isna().sum()}\")"
   ]
  },
  {
   "cell_type": "markdown",
   "metadata": {},
   "source": [
    "### `b_type`"
   ]
  },
  {
   "cell_type": "code",
   "execution_count": 25,
   "metadata": {},
   "outputs": [
    {
     "name": "stdout",
     "output_type": "stream",
     "text": [
      "b_type\n",
      "blok                12179\n",
      "apartamentowiec      7829\n",
      "kamienica            2891\n",
      "dom wolnostojący      338\n",
      "szeregowiec           323\n",
      "plomba                 25\n",
      "loft                    4\n",
      "Name: count, dtype: int64\n",
      "Number of NaN's in b_type is 8210\n"
     ]
    }
   ],
   "source": [
    "print(df['b_type'].value_counts())\n",
    "print(f\"Number of NaN's in b_type is {df['b_type'].isna().sum()}\")\n"
   ]
  },
  {
   "cell_type": "markdown",
   "metadata": {},
   "source": [
    "### `location`\n",
    "For the `location` column I'd like to split it into 4 new columns: `street`, `district`, `subdistrict` and `nbhood`, because data in `location` is too messy. The initial plan was to do the splitting using Geopy, but luckily the data is pretty detailed. I will also drop all NaN values in `location` column, because there is very few of them. "
   ]
  },
  {
   "cell_type": "code",
   "execution_count": 26,
   "metadata": {},
   "outputs": [
    {
     "data": {
      "text/plain": [
       "0    ul. Wiarusów 10, Gocławek, Praga-Południe, War...\n",
       "1    ul. Obrzeżna, Służewiec, Służewiec, Mokotów, W...\n",
       "2                 Raków, Włochy, Warszawa, mazowieckie\n",
       "3                Okęcie, Włochy, Warszawa, mazowieckie\n",
       "4        Stary Imielin, Ursynów, Warszawa, mazowieckie\n",
       "Name: location, dtype: object"
      ]
     },
     "execution_count": 26,
     "metadata": {},
     "output_type": "execute_result"
    }
   ],
   "source": [
    "df['location'].head()"
   ]
  },
  {
   "cell_type": "code",
   "execution_count": 27,
   "metadata": {},
   "outputs": [],
   "source": [
    "df.dropna(subset=['location'], inplace=True)\n",
    "df['street'] = pd.Series(dtype=str)\n",
    "df['district'] = pd.Series(dtype=str)\n",
    "df['subdistrict'] = pd.Series(dtype=str)\n",
    "df['nbhood'] = pd.Series(dtype=str)\n",
    "\n",
    "for index, row in df.iterrows():\n",
    "    address = str(row['location']).split(',')\n",
    "    # there are some anomalies in the data, for now lets handle some of them with multiple cases\n",
    "    if 'ul.' in address[0] or 'al.' in address[0] or 'ego' in address[0] or 'Wał Miedz' in address[0] or 'polki' in address[0] or 'Warszawa'==address[0]:\n",
    "        street = address[0][3:].title()\n",
    "        subdistrict = address[1].title()\n",
    "        district = address[2].title()\n",
    "    else:\n",
    "        street = ''\n",
    "        subdistrict = address[0].title()\n",
    "        district = address[1].title()\n",
    "    df.at[index, 'street'] = street\n",
    "    df.at[index, 'district'] = district\n",
    "    df.at[index, 'subdistrict'] = subdistrict\n",
    "    "
   ]
  },
  {
   "cell_type": "code",
   "execution_count": 28,
   "metadata": {},
   "outputs": [
    {
     "data": {
      "text/plain": [
       "array([' Praga-Południe', ' Służewiec', ' Włochy', ' Ursynów', ' Ursus',\n",
       "       ' Wola', ' Żoliborz', ' Mokotów', ' Wilanów', ' Bemowo',\n",
       "       ' Bielany', ' Śródmieście', ' Białołęka', ' Ochota', ' Targówek',\n",
       "       ' Praga-Północ', ' Wawer', ' Stara Miłosna', ' Wesoła', ' Mirów',\n",
       "       ' Rembertów', ' Grodzisk', ' Szmulowizna', ' Czyste',\n",
       "       ' Śródmieście Północne', ' Piaski', ' Piastów', ' Ksawerów',\n",
       "       ' Sady Żoliborskie', ' Odolany', ' Warszawa', ' Stegny',\n",
       "       ' Niedźwiadek', ' Stare Włochy', ' Marymont-Kaskada', ' Wyczółki',\n",
       "       ' Śródmieście Południowe', ' Szczęśliwice', ' Ujazdów',\n",
       "       ' Stary Żoliborz', ' Raków', ' Chrzanów', ' Stary Mokotów',\n",
       "       '  Broniwoja 8', ' Gocław', ' Wołomiński', ' Michałowice',\n",
       "       ' Białołęka Dworska', ' Wawrzyszew', ' Saska Kępa',\n",
       "       ' Jeziorki Północne', ' Szamoty', ' Osiedle Wilno',\n",
       "       ' Błonia Wilanowskie', ' Kabaty', ' Otwocki', ' Górce',\n",
       "       ' Pruszkowska', ' Grójec', ' Kobiałka', ' Aura Park', ' Młynów',\n",
       "       ' Chomiczówka', ' Brwinów', ' Targówek Mieszkaniowy', ' Młociny',\n",
       "       ' Powsinek', ' Ulrychów', ' Pruszkowski', ' Żerań',\n",
       "       ' Stary Rembertów', ' Wola Grzybowska', ' Fort Bema',\n",
       "       ' Nowa Praga', ' Filtry', ' Lesznowola', ' Grochów', ' Groszówka',\n",
       "       ' Bardo', ' Zacisze', ' Sielce', ' Łomianki', ' Nadwiśle',\n",
       "       ' Salomea', ' Stare Miasto', ' Powiśle', ' Natolin',\n",
       "       ' Konstancin-Jeziorna', ' Stara Ochota', ' Bliska Wola',\n",
       "       '23M/Dwustronne/Winda/Kamienica Z 1946', ' Stare Bielany',\n",
       "       ' Czechowice', ' Jeziorki Południowe', ' Ulica Międzyborska 10',\n",
       "       ' Okęcie', ' Ul. Niedzielskiego', ' Bródno-Podgrodzie', ' Raszyn',\n",
       "       ' Jelonki Południowe', ' Marymont-Potok', ' Marysin Wawerski',\n",
       "       ' Augustówka', ' Ursynów Północny', ' Nowodwory',\n",
       "       ' Kawęczyn-Wygoda', ' Szamocin', ' Powązki', ' Międzylesie',\n",
       "       ' Elsnerów', ' Stary Imielin', ' Bródno', ' Broniewskiego',\n",
       "       ' Falenica', ' Nowe Włochy', ' Marymont-Ruda', ' Pyry', ' Ryżowa',\n",
       "       ' Muranów', ' Stare Babice', ' Jabłonna', ' Służew'], dtype=object)"
      ]
     },
     "execution_count": 28,
     "metadata": {},
     "output_type": "execute_result"
    }
   ],
   "source": [
    "#df['subdistrict'].value_counts().sort_values().head(200)\n",
    "df['district'].unique()"
   ]
  },
  {
   "cell_type": "markdown",
   "metadata": {},
   "source": [
    "We can see that our address columns still need some work, so I will use Geopy to fix each row individually. "
   ]
  },
  {
   "cell_type": "code",
   "execution_count": 33,
   "metadata": {},
   "outputs": [
    {
     "data": {
      "text/html": [
       "<div>\n",
       "<style scoped>\n",
       "    .dataframe tbody tr th:only-of-type {\n",
       "        vertical-align: middle;\n",
       "    }\n",
       "\n",
       "    .dataframe tbody tr th {\n",
       "        vertical-align: top;\n",
       "    }\n",
       "\n",
       "    .dataframe thead th {\n",
       "        text-align: right;\n",
       "    }\n",
       "</style>\n",
       "<table border=\"1\" class=\"dataframe\">\n",
       "  <thead>\n",
       "    <tr style=\"text-align: right;\">\n",
       "      <th></th>\n",
       "      <th>street</th>\n",
       "      <th>nbhood</th>\n",
       "      <th>subdistrict</th>\n",
       "      <th>district</th>\n",
       "    </tr>\n",
       "  </thead>\n",
       "  <tbody>\n",
       "    <tr>\n",
       "      <th>0</th>\n",
       "      <td>Wiarusów 10</td>\n",
       "      <td>Gocławek</td>\n",
       "      <td>Grochów-Północny</td>\n",
       "      <td>Praga-Południe</td>\n",
       "    </tr>\n",
       "    <tr>\n",
       "      <th>1</th>\n",
       "      <td>Obrzeżna</td>\n",
       "      <td>None</td>\n",
       "      <td>Służew</td>\n",
       "      <td>Mokotów</td>\n",
       "    </tr>\n",
       "    <tr>\n",
       "      <th>2</th>\n",
       "      <td>None</td>\n",
       "      <td>None</td>\n",
       "      <td>Raków</td>\n",
       "      <td>Włochy</td>\n",
       "    </tr>\n",
       "    <tr>\n",
       "      <th>3</th>\n",
       "      <td>Żwirki i Wigury</td>\n",
       "      <td>None</td>\n",
       "      <td>Okęcie</td>\n",
       "      <td>Włochy</td>\n",
       "    </tr>\n",
       "    <tr>\n",
       "      <th>4</th>\n",
       "      <td>None</td>\n",
       "      <td>None</td>\n",
       "      <td>Stary Imielin</td>\n",
       "      <td>Ursynów</td>\n",
       "    </tr>\n",
       "  </tbody>\n",
       "</table>\n",
       "</div>"
      ],
      "text/plain": [
       "            street    nbhood       subdistrict        district\n",
       "0      Wiarusów 10  Gocławek  Grochów-Północny  Praga-Południe\n",
       "1         Obrzeżna      None            Służew         Mokotów\n",
       "2             None      None             Raków          Włochy\n",
       "3  Żwirki i Wigury      None            Okęcie          Włochy\n",
       "4             None      None     Stary Imielin         Ursynów"
      ]
     },
     "execution_count": 33,
     "metadata": {},
     "output_type": "execute_result"
    }
   ],
   "source": [
    "df[['street', 'nbhood', 'subdistrict', 'district']].head()"
   ]
  },
  {
   "cell_type": "code",
   "execution_count": 30,
   "metadata": {},
   "outputs": [],
   "source": [
    "import geolocation_helpers as geohelp\n",
    "\n",
    "for index, row in df.iterrows():\n",
    "    street, subdistrict, district = row['street'], row['subdistrict'], row['district']\n",
    "    street, nbhood, subdistrict, district = geohelp.fix_address(street, subdistrict, district)\n",
    "    df.at[index, 'street'] = street\n",
    "    df.at[index, 'nbhood'] = nbhood\n",
    "    df.at[index, 'subdistrict'] = subdistrict\n",
    "    df.at[index, 'district'] = district\n",
    "    time.sleep(1)"
   ]
  },
  {
   "cell_type": "code",
   "execution_count": 34,
   "metadata": {},
   "outputs": [
    {
     "data": {
      "text/html": [
       "<div>\n",
       "<style scoped>\n",
       "    .dataframe tbody tr th:only-of-type {\n",
       "        vertical-align: middle;\n",
       "    }\n",
       "\n",
       "    .dataframe tbody tr th {\n",
       "        vertical-align: top;\n",
       "    }\n",
       "\n",
       "    .dataframe thead th {\n",
       "        text-align: right;\n",
       "    }\n",
       "</style>\n",
       "<table border=\"1\" class=\"dataframe\">\n",
       "  <thead>\n",
       "    <tr style=\"text-align: right;\">\n",
       "      <th></th>\n",
       "      <th>street</th>\n",
       "      <th>nbhood</th>\n",
       "      <th>subdistrict</th>\n",
       "      <th>district</th>\n",
       "    </tr>\n",
       "  </thead>\n",
       "  <tbody>\n",
       "    <tr>\n",
       "      <th>0</th>\n",
       "      <td>Wiarusów 10</td>\n",
       "      <td>Gocławek</td>\n",
       "      <td>Grochów-Północny</td>\n",
       "      <td>Praga-Południe</td>\n",
       "    </tr>\n",
       "    <tr>\n",
       "      <th>1</th>\n",
       "      <td>Obrzeżna</td>\n",
       "      <td>None</td>\n",
       "      <td>Służew</td>\n",
       "      <td>Mokotów</td>\n",
       "    </tr>\n",
       "    <tr>\n",
       "      <th>2</th>\n",
       "      <td>None</td>\n",
       "      <td>None</td>\n",
       "      <td>Raków</td>\n",
       "      <td>Włochy</td>\n",
       "    </tr>\n",
       "    <tr>\n",
       "      <th>3</th>\n",
       "      <td>Żwirki i Wigury</td>\n",
       "      <td>None</td>\n",
       "      <td>Okęcie</td>\n",
       "      <td>Włochy</td>\n",
       "    </tr>\n",
       "    <tr>\n",
       "      <th>4</th>\n",
       "      <td>None</td>\n",
       "      <td>None</td>\n",
       "      <td>Stary Imielin</td>\n",
       "      <td>Ursynów</td>\n",
       "    </tr>\n",
       "  </tbody>\n",
       "</table>\n",
       "</div>"
      ],
      "text/plain": [
       "            street    nbhood       subdistrict        district\n",
       "0      Wiarusów 10  Gocławek  Grochów-Północny  Praga-Południe\n",
       "1         Obrzeżna      None            Służew         Mokotów\n",
       "2             None      None             Raków          Włochy\n",
       "3  Żwirki i Wigury      None            Okęcie          Włochy\n",
       "4             None      None     Stary Imielin         Ursynów"
      ]
     },
     "execution_count": 34,
     "metadata": {},
     "output_type": "execute_result"
    }
   ],
   "source": [
    "df[['street', 'nbhood', 'subdistrict', 'district']].head()"
   ]
  },
  {
   "cell_type": "markdown",
   "metadata": {},
   "source": [
    "Because of Nominatim's policy this process is very time consuming, so I will save the Dataframe into a file, so I can use it without having to rerun the code multiple times. "
   ]
  },
  {
   "cell_type": "code",
   "execution_count": null,
   "metadata": {},
   "outputs": [],
   "source": [
    "df.to_csv('modified_df.csv', index=False)"
   ]
  }
 ],
 "metadata": {
  "kernelspec": {
   "display_name": ".venv",
   "language": "python",
   "name": "python3"
  },
  "language_info": {
   "codemirror_mode": {
    "name": "ipython",
    "version": 3
   },
   "file_extension": ".py",
   "mimetype": "text/x-python",
   "name": "python",
   "nbconvert_exporter": "python",
   "pygments_lexer": "ipython3",
   "version": "3.11.6"
  }
 },
 "nbformat": 4,
 "nbformat_minor": 2
}
