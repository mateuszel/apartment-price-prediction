{
 "cells": [
  {
   "cell_type": "code",
   "execution_count": 5,
   "metadata": {},
   "outputs": [],
   "source": [
    "from geopy.geocoders import Nominatim\n",
    "import pandas as pd"
   ]
  },
  {
   "cell_type": "code",
   "execution_count": 10,
   "metadata": {},
   "outputs": [
    {
     "name": "stdout",
     "output_type": "stream",
     "text": [
      "<class 'pandas.core.frame.DataFrame'>\n",
      "RangeIndex: 31850 entries, 0 to 31849\n",
      "Data columns (total 13 columns):\n",
      " #   Column         Non-Null Count  Dtype  \n",
      "---  ------         --------------  -----  \n",
      " 0   location       31845 non-null  object \n",
      " 1   total_price    31849 non-null  object \n",
      " 2   price_per_sqm  29473 non-null  object \n",
      " 3   area           31849 non-null  object \n",
      " 4   rooms          31849 non-null  object \n",
      " 5   finished       6912 non-null   object \n",
      " 6   floor          31404 non-null  object \n",
      " 7   outside        23252 non-null  object \n",
      " 8   rent           15569 non-null  object \n",
      " 9   elevator       27957 non-null  object \n",
      " 10  built          24779 non-null  float64\n",
      " 11  b_type         23639 non-null  object \n",
      " 12  link           31850 non-null  object \n",
      "dtypes: float64(1), object(12)\n",
      "memory usage: 3.2+ MB\n",
      "None\n"
     ]
    }
   ],
   "source": [
    "df = pd.read_csv('details.txt', delimiter=';')\n",
    "print(df.info())"
   ]
  }
 ],
 "metadata": {
  "kernelspec": {
   "display_name": ".venv",
   "language": "python",
   "name": "python3"
  },
  "language_info": {
   "codemirror_mode": {
    "name": "ipython",
    "version": 3
   },
   "file_extension": ".py",
   "mimetype": "text/x-python",
   "name": "python",
   "nbconvert_exporter": "python",
   "pygments_lexer": "ipython3",
   "version": "3.11.6"
  }
 },
 "nbformat": 4,
 "nbformat_minor": 2
}
